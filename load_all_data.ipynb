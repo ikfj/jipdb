{
 "cells": [
  {
   "cell_type": "markdown",
   "metadata": {},
   "source": [
    "# JIPデータベース2015を読み込むPythonコード"
   ]
  },
  {
   "cell_type": "code",
   "execution_count": null,
   "metadata": {},
   "outputs": [],
   "source": [
    "import os\n",
    "from pathlib import Path\n",
    "import requests\n",
    "import zipfile\n",
    "import pandas as pd"
   ]
  },
  {
   "cell_type": "markdown",
   "metadata": {},
   "source": [
    "ダウンロード元URLとダウンロード先フォルダを設定"
   ]
  },
  {
   "cell_type": "code",
   "execution_count": null,
   "metadata": {},
   "outputs": [],
   "source": [
    "jip2015_zip_url = 'https://www.rieti.go.jp/jp/database/JIP2015/data/8_jip2015_csv.zip'\n",
    "data_dir = Path('~/data').expanduser()"
   ]
  },
  {
   "cell_type": "markdown",
   "metadata": {},
   "source": [
    "ZIPファイルをダウンロードして解凍"
   ]
  },
  {
   "cell_type": "code",
   "execution_count": null,
   "metadata": {},
   "outputs": [],
   "source": [
    "url = jip2015_zip_url\n",
    "zip_path = data_dir / os.path.basename(url)\n",
    "if not zip_path.exists():\n",
    "    print(\"{} をダウンロードしています\".format(url))\n",
    "    r = requests.get(url)\n",
    "    if r.headers.get('Content-Type') == 'application/zip':\n",
    "        with open(zip_path, 'wb') as f:\n",
    "            f.write(r.content)\n",
    "if zip_path.exists():\n",
    "    data_dir.mkdir(parents=True, exist_ok=True)\n",
    "    with zipfile.ZipFile(zip_path) as z:\n",
    "        z.extractall(data_dir)\n",
    "        print(\"{} の中に解凍しました\".format(data_dir))"
   ]
  },
  {
   "cell_type": "markdown",
   "metadata": {},
   "source": [
    "JIP2015_1.csv を `df1` に読み込む。JIPcode と year で2階層のマルチインデックスにする。"
   ]
  },
  {
   "cell_type": "code",
   "execution_count": null,
   "metadata": {},
   "outputs": [],
   "source": [
    "data1_path = data_dir / 'JIP2015_CSV/JIP2015_1.csv'\n",
    "df1 = pd.read_csv(data1_path, index_col=['JIPcode', 'year'])\n",
    "df1"
   ]
  },
  {
   "cell_type": "markdown",
   "metadata": {},
   "source": [
    "JIPcode=108 だけを抽出してみる。"
   ]
  },
  {
   "cell_type": "code",
   "execution_count": null,
   "metadata": {},
   "outputs": [],
   "source": [
    "df1.xs(108, level='JIPcode')"
   ]
  },
  {
   "cell_type": "markdown",
   "metadata": {},
   "source": [
    "JIP2015_2.csv を `df2` に読み込む。ASTcode と year で2階層のマルチインデックスにする。"
   ]
  },
  {
   "cell_type": "code",
   "execution_count": null,
   "metadata": {},
   "outputs": [],
   "source": [
    "data2_path = data_dir / 'JIP2015_CSV/JIP2015_2.csv'\n",
    "df2 = pd.read_csv(data2_path, index_col=['ASTcode', 'year'])\n",
    "df2"
   ]
  },
  {
   "cell_type": "markdown",
   "metadata": {},
   "source": [
    "JIP2015_IO.csv を `df3` に読み込む。JIPcode_row と JIPcode_col と year で3階層のマルチインデックスにする。"
   ]
  },
  {
   "cell_type": "code",
   "execution_count": null,
   "metadata": {},
   "outputs": [],
   "source": [
    "data3_path = data_dir / 'JIP2015_CSV/JIP2015_IO.csv'\n",
    "df3 = pd.read_csv(data3_path, index_col=['JIPcode_row', 'JIPcode_col', 'year'])\n",
    "df3"
   ]
  },
  {
   "cell_type": "markdown",
   "metadata": {},
   "source": [
    "JIP2015_Kmatrix.csv を `df4` に読み込む。JIPcode と ASTcode と year で3階層のマルチインデックスにする。"
   ]
  },
  {
   "cell_type": "code",
   "execution_count": null,
   "metadata": {},
   "outputs": [],
   "source": [
    "data4_path = data_dir / 'JIP2015_CSV/JIP2015_Kmatrix.csv'\n",
    "df4 = pd.read_csv(data4_path, index_col=['JIPcode', 'ASTcode', 'year'])\n",
    "df4"
   ]
  },
  {
   "cell_type": "code",
   "execution_count": null,
   "metadata": {},
   "outputs": [],
   "source": []
  }
 ],
 "metadata": {
  "kernelspec": {
   "display_name": "Python 3",
   "language": "python",
   "name": "python3"
  },
  "language_info": {
   "codemirror_mode": {
    "name": "ipython",
    "version": 3
   },
   "file_extension": ".py",
   "mimetype": "text/x-python",
   "name": "python",
   "nbconvert_exporter": "python",
   "pygments_lexer": "ipython3",
   "version": "3.8.6"
  }
 },
 "nbformat": 4,
 "nbformat_minor": 4
}
